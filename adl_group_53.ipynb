{
 "cells": [
  {
   "cell_type": "markdown",
   "id": "1c91dd82",
   "metadata": {},
   "source": [
    "### Objective - Task #4\n",
    "To train a deep convolutional autoencoder with MNIST dataset and using extracted features train a MLP classifier with 7 outputs (7 segment LED display) that are representative of 10 digits.\n",
    "\n",
    "1. For example, images of \"0\" will be classified as \n",
    "      ```\n",
    "            1     \n",
    "         1     1  \n",
    "            0     \n",
    "         1     1  \n",
    "            1     \n",
    "      ```\n",
    "\n",
    "2. And, images of \"7\" will be classified as\n",
    "      ```\n",
    "            1     \n",
    "         0     1  \n",
    "            0     \n",
    "         0     1  \n",
    "            0     \n",
    "      ```\n"
   ]
  },
  {
   "attachments": {
    "image.png": {
     "image/png": "[encoded data removed]"
    }
   },
   "cell_type": "markdown",
   "id": "17f19e7d",
   "metadata": {},
   "source": [
    "### Solution - Task #4\n",
    "##### 7-segment display\n",
    "A 7-segment display is a form of electronic display device that consists of seven LEDs arranged in a rectangular fashion as seen in the image below. \n",
    "\n",
    "![image.png](attachment:image.png)\n",
    "\n",
    "The image shows 8 variables A-H, where A-G represent one of the segments for illuminating a digit and H represents a decimal point. \n",
    "\n",
    "Since our dataset is the MNIST dataset, we are proceeding with the assumption that the decimal point (H) is not part of our data. \n",
    "\n",
    "The activation of the combination of variables that represent each digit 0-9 can be shown with the following truth table.\n",
    "\n",
    "##### Truth Table for 7-segment display\n",
    "<table>\n",
    "    <thead>\n",
    "        <tr>\n",
    "            <th scope=\"col\">Digit to display</th>\n",
    "            <th scope=\"col\">A</th>\n",
    "            <th scope=\"col\">B</th>\n",
    "            <th scope=\"col\">C</th>\n",
    "            <th scope=\"col\">D</th>\n",
    "            <th scope=\"col\">E</th>\n",
    "            <th scope=\"col\">F</th>\n",
    "            <th scope=\"col\">G</th>\n",
    "        </tr>\n",
    "    </thead>\n",
    "    <tbody>\n",
    "        <tr>\n",
    "            <td>0</td>\n",
    "            <td>1</td>\n",
    "            <td>1</td>\n",
    "            <td>1</td>\n",
    "            <td>1</td>\n",
    "            <td>1</td>\n",
    "            <td>1</td>\n",
    "            <td>0</td>\n",
    "        </tr>\n",
    "        <tr>\n",
    "            <td>1</td>\n",
    "            <td>0</td>\n",
    "            <td>1</td>\n",
    "            <td>1</td>\n",
    "            <td>0</td>\n",
    "            <td>0</td>\n",
    "            <td>0</td>\n",
    "            <td>0</td>\n",
    "        </tr>\n",
    "        <tr>\n",
    "            <td>2</td>\n",
    "            <td>1</td>\n",
    "            <td>1</td>\n",
    "            <td>0</td>\n",
    "            <td>1</td>\n",
    "            <td>1</td>\n",
    "            <td>0</td>\n",
    "            <td>1</td>\n",
    "        </tr>\n",
    "        <tr>\n",
    "            <td>3</td>\n",
    "            <td>1</td>\n",
    "            <td>1</td>\n",
    "            <td>1</td>\n",
    "            <td>1</td>\n",
    "            <td>0</td>\n",
    "            <td>0</td>\n",
    "            <td>1</td>\n",
    "        </tr>\n",
    "        <tr>\n",
    "            <td>4</td>\n",
    "            <td>0</td>\n",
    "            <td>1</td>\n",
    "            <td>1</td>\n",
    "            <td>0</td>\n",
    "            <td>0</td>\n",
    "            <td>1</td>\n",
    "            <td>1</td>\n",
    "        </tr>\n",
    "        <tr>\n",
    "            <td>5</td>\n",
    "            <td>1</td>\n",
    "            <td>0</td>\n",
    "            <td>1</td>\n",
    "            <td>1</td>\n",
    "            <td>0</td>\n",
    "            <td>1</td>\n",
    "            <td>1</td>\n",
    "        </tr>\n",
    "        <tr>\n",
    "            <td>6</td>\n",
    "            <td>1</td>\n",
    "            <td>0</td>\n",
    "            <td>1</td>\n",
    "            <td>1</td>\n",
    "            <td>1</td>\n",
    "            <td>1</td>\n",
    "            <td>1</td>\n",
    "        </tr>\n",
    "        <tr>\n",
    "            <td>7</td>\n",
    "            <td>1</td>\n",
    "            <td>1</td>\n",
    "            <td>1</td>\n",
    "            <td>0</td>\n",
    "            <td>0</td>\n",
    "            <td>0</td>\n",
    "            <td>0</td>\n",
    "        </tr>\n",
    "        <tr>\n",
    "            <td>8</td>\n",
    "            <td>1</td>\n",
    "            <td>1</td>\n",
    "            <td>1</td>\n",
    "            <td>1</td>\n",
    "            <td>1</td>\n",
    "            <td>1</td>\n",
    "            <td>1</td>\n",
    "        </tr>\n",
    "        <tr>\n",
    "            <td>9</td>\n",
    "            <td>1</td>\n",
    "            <td>1</td>\n",
    "            <td>1</td>\n",
    "            <td>1</td>\n",
    "            <td>0</td>\n",
    "            <td>1</td>\n",
    "            <td>1</td>\n",
    "        </tr>\n",
    "    </tbody>\n",
    "</table>"
   ]
  },
  {
   "cell_type": "markdown",
   "id": "c59702b9",
   "metadata": {},
   "source": [
    "### Code for solution of task #4"
   ]
  },
  {
   "cell_type": "code",
   "execution_count": 1,
   "id": "852deb56",
   "metadata": {},
   "outputs": [],
   "source": [
    "# imports for task #4\n",
    "import numpy as np\n",
    "import tensorflow as tf\n",
    "from tensorflow import keras\n",
    "from sklearn.metrics import confusion_matrix, ConfusionMatrixDisplay\n",
    "import matplotlib.pyplot as plt"
   ]
  },
  {
   "cell_type": "code",
   "execution_count": 2,
   "id": "76d7e542",
   "metadata": {},
   "outputs": [],
   "source": [
    "# Now we build a map for the 7-segment display\n",
    "# This will map our digits to their corresponding combination of 0/1 value combinations for the variables A-G\n",
    "SEGMENT_MAP = {\n",
    "    0: [1,1,1,1,1,1,0],\n",
    "    1: [0,1,1,0,0,0,0],\n",
    "    2: [1,1,0,1,1,0,1],\n",
    "    3: [1,1,1,1,0,0,1],\n",
    "    4: [0,1,1,0,0,1,1],\n",
    "    5: [1,0,1,1,0,1,1],\n",
    "    6: [1,0,1,1,1,1,1],\n",
    "    7: [1,1,1,0,0,0,0],\n",
    "    8: [1,1,1,1,1,1,1],\n",
    "    9: [1,1,1,1,0,1,1]\n",
    "}"
   ]
  },
  {
   "cell_type": "code",
   "execution_count": 3,
   "id": "b6eac52b",
   "metadata": {},
   "outputs": [],
   "source": [
    "# Loading and preprocessiong MNIST data\n",
    "(x_train, y_train), (x_test, y_test) = keras.datasets.mnist.load_data()\n",
    "x_train = x_train.astype(\"float32\") / 255.0\n",
    "x_test = x_test.astype(\"float32\") / 255.0"
   ]
  },
  {
   "cell_type": "code",
   "execution_count": 4,
   "id": "067ed63a",
   "metadata": {},
   "outputs": [],
   "source": [
    "# Creating 7-segment targets\n",
    "y_train_seg = np.array([SEGMENT_MAP[label] for label in y_train])\n",
    "y_test_seg = np.array([SEGMENT_MAP[label] for label in y_test])"
   ]
  },
  {
   "cell_type": "code",
   "execution_count": 5,
   "id": "3b4f445d",
   "metadata": {},
   "outputs": [],
   "source": [
    "# Convolutional Autoencoder\n",
    "latent_dim = 32\n",
    "input_img = keras.Input(shape=(28, 28, 1))"
   ]
  },
  {
   "cell_type": "code",
   "execution_count": 6,
   "id": "e4c31b30",
   "metadata": {},
   "outputs": [],
   "source": [
    "# Encoder\n",
    "x = keras.layers.Conv2D(32, 3, activation='relu', padding='same')(input_img)\n",
    "x = keras.layers.MaxPooling2D(2, padding='same')(x)\n",
    "x = keras.layers.Conv2D(16, 3, activation='relu', padding='same')(x)\n",
    "encoded = keras.layers.MaxPooling2D(2, padding='same')(x)"
   ]
  },
  {
   "cell_type": "code",
   "execution_count": 7,
   "id": "9892a164",
   "metadata": {},
   "outputs": [],
   "source": [
    "# Decoder\n",
    "x = keras.layers.Conv2DTranspose(16, 3, activation='relu', padding='same')(encoded)\n",
    "x = keras.layers.UpSampling2D(2)(x)\n",
    "x = keras.layers.Conv2DTranspose(32, 3, activation='relu', padding='same')(x)\n",
    "x = keras.layers.UpSampling2D(2)(x)\n",
    "decoded = keras.layers.Conv2D(1, 3, activation='sigmoid', padding='same')(x)\n",
    "\n",
    "autoencoder = keras.Model(input_img, decoded)\n",
    "autoencoder.compile(optimizer='adam', loss='binary_crossentropy')"
   ]
  },
  {
   "cell_type": "code",
   "execution_count": 8,
   "id": "66af39f1",
   "metadata": {},
   "outputs": [
    {
     "name": "stdout",
     "output_type": "stream",
     "text": [
      "Epoch 1/20\n",
      "\u001b[1m469/469\u001b[0m \u001b[32m━━━━━━━━━━━━━━━━━━━━\u001b[0m\u001b[37m\u001b[0m \u001b[1m19s\u001b[0m 37ms/step - loss: 0.2136 - val_loss: 0.0801\n",
      "Epoch 2/20\n",
      "\u001b[1m469/469\u001b[0m \u001b[32m━━━━━━━━━━━━━━━━━━━━\u001b[0m\u001b[37m\u001b[0m \u001b[1m16s\u001b[0m 35ms/step - loss: 0.0796 - val_loss: 0.0754\n",
      "Epoch 3/20\n",
      "\u001b[1m469/469\u001b[0m \u001b[32m━━━━━━━━━━━━━━━━━━━━\u001b[0m\u001b[37m\u001b[0m \u001b[1m17s\u001b[0m 35ms/step - loss: 0.0753 - val_loss: 0.0734\n",
      "Epoch 4/20\n",
      "\u001b[1m469/469\u001b[0m \u001b[32m━━━━━━━━━━━━━━━━━━━━\u001b[0m\u001b[37m\u001b[0m \u001b[1m16s\u001b[0m 35ms/step - loss: 0.0734 - val_loss: 0.0717\n",
      "Epoch 5/20\n",
      "\u001b[1m469/469\u001b[0m \u001b[32m━━━━━━━━━━━━━━━━━━━━\u001b[0m\u001b[37m\u001b[0m \u001b[1m17s\u001b[0m 35ms/step - loss: 0.0722 - val_loss: 0.0706\n",
      "Epoch 6/20\n",
      "\u001b[1m469/469\u001b[0m \u001b[32m━━━━━━━━━━━━━━━━━━━━\u001b[0m\u001b[37m\u001b[0m \u001b[1m17s\u001b[0m 35ms/step - loss: 0.0711 - val_loss: 0.0698\n",
      "Epoch 7/20\n",
      "\u001b[1m469/469\u001b[0m \u001b[32m━━━━━━━━━━━━━━━━━━━━\u001b[0m\u001b[37m\u001b[0m \u001b[1m17s\u001b[0m 35ms/step - loss: 0.0704 - val_loss: 0.0694\n",
      "Epoch 8/20\n",
      "\u001b[1m469/469\u001b[0m \u001b[32m━━━━━━━━━━━━━━━━━━━━\u001b[0m\u001b[37m\u001b[0m \u001b[1m17s\u001b[0m 35ms/step - loss: 0.0697 - val_loss: 0.0689\n",
      "Epoch 9/20\n",
      "\u001b[1m469/469\u001b[0m \u001b[32m━━━━━━━━━━━━━━━━━━━━\u001b[0m\u001b[37m\u001b[0m \u001b[1m17s\u001b[0m 35ms/step - loss: 0.0691 - val_loss: 0.0681\n",
      "Epoch 10/20\n",
      "\u001b[1m469/469\u001b[0m \u001b[32m━━━━━━━━━━━━━━━━━━━━\u001b[0m\u001b[37m\u001b[0m \u001b[1m17s\u001b[0m 36ms/step - loss: 0.0686 - val_loss: 0.0678\n",
      "Epoch 11/20\n",
      "\u001b[1m469/469\u001b[0m \u001b[32m━━━━━━━━━━━━━━━━━━━━\u001b[0m\u001b[37m\u001b[0m \u001b[1m17s\u001b[0m 35ms/step - loss: 0.0681 - val_loss: 0.0675\n",
      "Epoch 12/20\n",
      "\u001b[1m469/469\u001b[0m \u001b[32m━━━━━━━━━━━━━━━━━━━━\u001b[0m\u001b[37m\u001b[0m \u001b[1m17s\u001b[0m 36ms/step - loss: 0.0679 - val_loss: 0.0672\n",
      "Epoch 13/20\n",
      "\u001b[1m469/469\u001b[0m \u001b[32m━━━━━━━━━━━━━━━━━━━━\u001b[0m\u001b[37m\u001b[0m \u001b[1m17s\u001b[0m 35ms/step - loss: 0.0676 - val_loss: 0.0671\n",
      "Epoch 14/20\n",
      "\u001b[1m469/469\u001b[0m \u001b[32m━━━━━━━━━━━━━━━━━━━━\u001b[0m\u001b[37m\u001b[0m \u001b[1m17s\u001b[0m 36ms/step - loss: 0.0675 - val_loss: 0.0668\n",
      "Epoch 15/20\n",
      "\u001b[1m469/469\u001b[0m \u001b[32m━━━━━━━━━━━━━━━━━━━━\u001b[0m\u001b[37m\u001b[0m \u001b[1m17s\u001b[0m 36ms/step - loss: 0.0671 - val_loss: 0.0666\n",
      "Epoch 16/20\n",
      "\u001b[1m469/469\u001b[0m \u001b[32m━━━━━━━━━━━━━━━━━━━━\u001b[0m\u001b[37m\u001b[0m \u001b[1m17s\u001b[0m 36ms/step - loss: 0.0671 - val_loss: 0.0665\n",
      "Epoch 17/20\n",
      "\u001b[1m469/469\u001b[0m \u001b[32m━━━━━━━━━━━━━━━━━━━━\u001b[0m\u001b[37m\u001b[0m \u001b[1m18s\u001b[0m 38ms/step - loss: 0.0670 - val_loss: 0.0663\n",
      "Epoch 18/20\n",
      "\u001b[1m469/469\u001b[0m \u001b[32m━━━━━━━━━━━━━━━━━━━━\u001b[0m\u001b[37m\u001b[0m \u001b[1m17s\u001b[0m 36ms/step - loss: 0.0667 - val_loss: 0.0661\n",
      "Epoch 19/20\n",
      "\u001b[1m469/469\u001b[0m \u001b[32m━━━━━━━━━━━━━━━━━━━━\u001b[0m\u001b[37m\u001b[0m \u001b[1m17s\u001b[0m 35ms/step - loss: 0.0665 - val_loss: 0.0660\n",
      "Epoch 20/20\n",
      "\u001b[1m469/469\u001b[0m \u001b[32m━━━━━━━━━━━━━━━━━━━━\u001b[0m\u001b[37m\u001b[0m \u001b[1m16s\u001b[0m 35ms/step - loss: 0.0664 - val_loss: 0.0662\n"
     ]
    },
    {
     "data": {
      "text/plain": [
       "<keras.src.callbacks.history.History at 0x20ca2af98e0>"
      ]
     },
     "execution_count": 8,
     "metadata": {},
     "output_type": "execute_result"
    }
   ],
   "source": [
    "# Training the autoencoder\n",
    "autoencoder.fit(\n",
    "    x_train[..., np.newaxis], x_train[..., np.newaxis],\n",
    "    epochs=20,\n",
    "    batch_size=128,\n",
    "    validation_data=(x_test[..., np.newaxis], x_test[..., np.newaxis])\n",
    ")"
   ]
  },
  {
   "cell_type": "code",
   "execution_count": 9,
   "id": "7c65b070",
   "metadata": {},
   "outputs": [],
   "source": [
    "# Creating encoder model for feature extraction\n",
    "encoder = keras.Model(input_img, encoded)"
   ]
  },
  {
   "cell_type": "code",
   "execution_count": 10,
   "id": "7fdd71ad",
   "metadata": {},
   "outputs": [
    {
     "name": "stderr",
     "output_type": "stream",
     "text": [
      "d:\\projects\\ADL\\env\\Lib\\site-packages\\keras\\src\\layers\\reshaping\\flatten.py:37: UserWarning: Do not pass an `input_shape`/`input_dim` argument to a layer. When using Sequential models, prefer using an `Input(shape)` object as the first layer in the model instead.\n",
      "  super().__init__(**kwargs)\n"
     ]
    }
   ],
   "source": [
    "# MLP Classifier\n",
    "mlp = keras.Sequential([\n",
    "    keras.layers.Flatten(input_shape=(7,7,16)),\n",
    "    keras.layers.Dense(128, activation='relu'),\n",
    "    keras.layers.Dropout(0.2),\n",
    "    keras.layers.Dense(64, activation='relu'),\n",
    "    keras.layers.Dense(7, activation='sigmoid')\n",
    "])\n",
    "\n",
    "mlp.compile(optimizer='adam',\n",
    "           loss='binary_crossentropy',\n",
    "           metrics=['accuracy'])"
   ]
  },
  {
   "cell_type": "code",
   "execution_count": 11,
   "id": "2c8ed244",
   "metadata": {},
   "outputs": [
    {
     "name": "stdout",
     "output_type": "stream",
     "text": [
      "\u001b[1m1875/1875\u001b[0m \u001b[32m━━━━━━━━━━━━━━━━━━━━\u001b[0m\u001b[37m\u001b[0m \u001b[1m4s\u001b[0m 2ms/step\n",
      "Epoch 1/15\n",
      "\u001b[1m469/469\u001b[0m \u001b[32m━━━━━━━━━━━━━━━━━━━━\u001b[0m\u001b[37m\u001b[0m \u001b[1m2s\u001b[0m 3ms/step - accuracy: 0.2373 - loss: 0.2633\n",
      "Epoch 2/15\n",
      "\u001b[1m469/469\u001b[0m \u001b[32m━━━━━━━━━━━━━━━━━━━━\u001b[0m\u001b[37m\u001b[0m \u001b[1m1s\u001b[0m 3ms/step - accuracy: 0.2788 - loss: 0.0796\n",
      "Epoch 3/15\n",
      "\u001b[1m469/469\u001b[0m \u001b[32m━━━━━━━━━━━━━━━━━━━━\u001b[0m\u001b[37m\u001b[0m \u001b[1m1s\u001b[0m 3ms/step - accuracy: 0.2936 - loss: 0.0619\n",
      "Epoch 4/15\n",
      "\u001b[1m469/469\u001b[0m \u001b[32m━━━━━━━━━━━━━━━━━━━━\u001b[0m\u001b[37m\u001b[0m \u001b[1m1s\u001b[0m 3ms/step - accuracy: 0.3059 - loss: 0.0521\n",
      "Epoch 5/15\n",
      "\u001b[1m469/469\u001b[0m \u001b[32m━━━━━━━━━━━━━━━━━━━━\u001b[0m\u001b[37m\u001b[0m \u001b[1m1s\u001b[0m 3ms/step - accuracy: 0.3060 - loss: 0.0468\n",
      "Epoch 6/15\n",
      "\u001b[1m469/469\u001b[0m \u001b[32m━━━━━━━━━━━━━━━━━━━━\u001b[0m\u001b[37m\u001b[0m \u001b[1m1s\u001b[0m 3ms/step - accuracy: 0.3071 - loss: 0.0441\n",
      "Epoch 7/15\n",
      "\u001b[1m469/469\u001b[0m \u001b[32m━━━━━━━━━━━━━━━━━━━━\u001b[0m\u001b[37m\u001b[0m \u001b[1m1s\u001b[0m 3ms/step - accuracy: 0.3376 - loss: 0.0409\n",
      "Epoch 8/15\n",
      "\u001b[1m469/469\u001b[0m \u001b[32m━━━━━━━━━━━━━━━━━━━━\u001b[0m\u001b[37m\u001b[0m \u001b[1m1s\u001b[0m 3ms/step - accuracy: 0.3675 - loss: 0.0360\n",
      "Epoch 9/15\n",
      "\u001b[1m469/469\u001b[0m \u001b[32m━━━━━━━━━━━━━━━━━━━━\u001b[0m\u001b[37m\u001b[0m \u001b[1m1s\u001b[0m 3ms/step - accuracy: 0.3584 - loss: 0.0370\n",
      "Epoch 10/15\n",
      "\u001b[1m469/469\u001b[0m \u001b[32m━━━━━━━━━━━━━━━━━━━━\u001b[0m\u001b[37m\u001b[0m \u001b[1m1s\u001b[0m 3ms/step - accuracy: 0.3526 - loss: 0.0338\n",
      "Epoch 11/15\n",
      "\u001b[1m469/469\u001b[0m \u001b[32m━━━━━━━━━━━━━━━━━━━━\u001b[0m\u001b[37m\u001b[0m \u001b[1m1s\u001b[0m 3ms/step - accuracy: 0.3948 - loss: 0.0332\n",
      "Epoch 12/15\n",
      "\u001b[1m469/469\u001b[0m \u001b[32m━━━━━━━━━━━━━━━━━━━━\u001b[0m\u001b[37m\u001b[0m \u001b[1m1s\u001b[0m 3ms/step - accuracy: 0.3547 - loss: 0.0310\n",
      "Epoch 13/15\n",
      "\u001b[1m469/469\u001b[0m \u001b[32m━━━━━━━━━━━━━━━━━━━━\u001b[0m\u001b[37m\u001b[0m \u001b[1m1s\u001b[0m 3ms/step - accuracy: 0.3695 - loss: 0.0302\n",
      "Epoch 14/15\n",
      "\u001b[1m469/469\u001b[0m \u001b[32m━━━━━━━━━━━━━━━━━━━━\u001b[0m\u001b[37m\u001b[0m \u001b[1m1s\u001b[0m 3ms/step - accuracy: 0.3668 - loss: 0.0303\n",
      "Epoch 15/15\n",
      "\u001b[1m469/469\u001b[0m \u001b[32m━━━━━━━━━━━━━━━━━━━━\u001b[0m\u001b[37m\u001b[0m \u001b[1m1s\u001b[0m 3ms/step - accuracy: 0.3927 - loss: 0.0278\n"
     ]
    },
    {
     "data": {
      "text/plain": [
       "<keras.src.callbacks.history.History at 0x20cb0d815e0>"
      ]
     },
     "execution_count": 11,
     "metadata": {},
     "output_type": "execute_result"
    }
   ],
   "source": [
    "# Training MLP on encoded features\n",
    "encoded_train = encoder.predict(x_train[..., np.newaxis])\n",
    "mlp.fit(encoded_train, y_train_seg, epochs=15, batch_size=128)"
   ]
  },
  {
   "cell_type": "code",
   "execution_count": 12,
   "id": "0888d172",
   "metadata": {},
   "outputs": [
    {
     "name": "stdout",
     "output_type": "stream",
     "text": [
      "\u001b[1m313/313\u001b[0m \u001b[32m━━━━━━━━━━━━━━━━━━━━\u001b[0m\u001b[37m\u001b[0m \u001b[1m1s\u001b[0m 2ms/step\n",
      "\u001b[1m313/313\u001b[0m \u001b[32m━━━━━━━━━━━━━━━━━━━━\u001b[0m\u001b[37m\u001b[0m \u001b[1m0s\u001b[0m 826us/step\n"
     ]
    }
   ],
   "source": [
    "# Evaluation\n",
    "encoded_test = encoder.predict(x_test[..., np.newaxis])\n",
    "predictions = mlp.predict(encoded_test)"
   ]
  },
  {
   "cell_type": "code",
   "execution_count": 13,
   "id": "899a5df7",
   "metadata": {},
   "outputs": [],
   "source": [
    "# Function to convert predictions to digits using Hamming distance\n",
    "def segment_to_digit(pred):\n",
    "    pred_binary = (pred > 0.5).astype(int)\n",
    "    distances = []\n",
    "    for digit in range(10):\n",
    "        distances.append(np.sum(pred_binary != SEGMENT_MAP[digit]))\n",
    "    return np.argmin(distances)"
   ]
  },
  {
   "cell_type": "code",
   "execution_count": 14,
   "id": "dd6a127b",
   "metadata": {},
   "outputs": [],
   "source": [
    "# Fetching predicted values into an array for creating confusion matrix\n",
    "y_pred = np.array([segment_to_digit(p) for p in predictions])"
   ]
  },
  {
   "cell_type": "code",
   "execution_count": 15,
   "id": "b45957ab",
   "metadata": {},
   "outputs": [
    {
     "data": {
      "image/png": "[encoded data removed]",
      "text/plain": [
       "<Figure size 640x480 with 2 Axes>"
      ]
     },
     "metadata": {},
     "output_type": "display_data"
    }
   ],
   "source": [
    "# Creating the confusion matrix\n",
    "cm = confusion_matrix(y_test, y_pred)\n",
    "disp = ConfusionMatrixDisplay(confusion_matrix=cm, display_labels=range(10))\n",
    "disp.plot(cmap=plt.cm.Blues)\n",
    "plt.show()"
   ]
  },
  {
   "cell_type": "code",
   "execution_count": 16,
   "id": "62d5ba15",
   "metadata": {},
   "outputs": [
    {
     "name": "stdout",
     "output_type": "stream",
     "text": [
      "Test Accuracy: 97.0600%\n",
      "Class-wise Accuracy:\n",
      "Digit 0: 99.0816%\n",
      "Digit 1: 98.8546%\n",
      "Digit 2: 98.0620%\n",
      "Digit 3: 96.0396%\n",
      "Digit 4: 97.1487%\n",
      "Digit 5: 95.5157%\n",
      "Digit 6: 97.8079%\n",
      "Digit 7: 96.6926%\n",
      "Digit 8: 95.8932%\n",
      "Digit 9: 95.1437%\n"
     ]
    }
   ],
   "source": [
    "# Creating a performance report for sanity\n",
    "accuracy = np.mean(y_pred == y_test)\n",
    "print(f\"Test Accuracy: {accuracy*100:.4f}%\")\n",
    "print(\"Class-wise Accuracy:\")\n",
    "for i in range(10):\n",
    "    class_acc = np.mean(y_pred[y_test == i] == i)\n",
    "    print(f\"Digit {i}: {class_acc*100:.4f}%\")"
   ]
  }
 ],
 "metadata": {
  "kernelspec": {
   "display_name": "env",
   "language": "python",
   "name": "python3"
  },
  "language_info": {
   "codemirror_mode": {
    "name": "ipython",
    "version": 3
   },
   "file_extension": ".py",
   "mimetype": "text/x-python",
   "name": "python",
   "nbconvert_exporter": "python",
   "pygments_lexer": "ipython3",
   "version": "3.12.10"
  }
 },
 "nbformat": 4,
 "nbformat_minor": 5
}
